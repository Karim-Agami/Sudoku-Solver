{
 "cells": [
  {
   "cell_type": "code",
   "execution_count": 2,
   "metadata": {},
   "outputs": [],
   "source": [
    "import numpy as np\n",
    "import pandas as pd\n",
    "import matplotlib.pyplot as plt\n",
    "import cv2\n",
    "import os\n",
    "from communfunctions import *\n",
    "from PIL import Image\n",
    "from sklearn.utils import shuffle\n",
    "import pickle\n",
    "\n",
    "\n",
    "#models\n",
    "from sklearn.neighbors import KNeighborsClassifier\n",
    "from sklearn import svm\n",
    "from sklearn.ensemble import RandomForestClassifier\n",
    "from sklearn.tree import DecisionTreeClassifier\n",
    "from xgboost import XGBClassifier\n",
    "\n",
    "#preprocessing\n",
    "from sklearn.model_selection import train_test_split\n",
    "from sklearn.model_selection import GridSearchCV\n",
    "from sklearn.metrics import accuracy_score\n",
    "\n"
   ]
  },
  {
   "cell_type": "code",
   "execution_count": 3,
   "metadata": {},
   "outputs": [],
   "source": [
    "#constants\n",
    "IMG_SIZE = 32"
   ]
  },
  {
   "cell_type": "code",
   "execution_count": 7,
   "metadata": {},
   "outputs": [],
   "source": [
    "def extract_hog_features(img):\n",
    "    \"\"\"\n",
    "    Extracts Histogram of Oriented Gradients (HOG) features from an image.\n",
    "\n",
    "    Parameters:\n",
    "    img (numpy.ndarray): A numpy array of shape (H, W) representing the input image.\n",
    "\n",
    "    Returns:\n",
    "    numpy.ndarray: A numpy array of shape (N,) containing the HOG features.\n",
    "    \"\"\"\n",
    "    img = cv2.resize(img, (IMG_SIZE, IMG_SIZE))\n",
    "    win_size = (IMG_SIZE, IMG_SIZE)\n",
    "    cell_size = (4, 4)\n",
    "    block_size_in_cells = (2, 2)\n",
    "    \n",
    "    block_size = (block_size_in_cells[1] * cell_size[1], block_size_in_cells[0] * cell_size[0])\n",
    "    block_stride = (cell_size[1], cell_size[0])\n",
    "    nbins = 9 \n",
    "    hog = cv2.HOGDescriptor(win_size, block_size, block_stride, cell_size, nbins)\n",
    "    h = hog.compute(img)\n",
    "    h = h.flatten()\n",
    "    return h.flatten()"
   ]
  },
  {
   "cell_type": "code",
   "execution_count": 8,
   "metadata": {},
   "outputs": [],
   "source": [
    "def load_dataset(path_to_dataset):\n",
    "    features = []\n",
    "    labels = []\n",
    "    img_path=[]\n",
    "    labels_folders = os.listdir(path_to_dataset)\n",
    "\n",
    "    for label in labels_folders:\n",
    "        path = os.path.join(path_to_dataset, label)\n",
    "        img_filenames = os.listdir(path)\n",
    "        for fn in img_filenames:\n",
    "            labels.append(label)\n",
    "\n",
    "            path = os.path.join(path_to_dataset, label, fn)\n",
    "            img = cv2.imread(path)\n",
    "            features.append(extract_hog_features(img))\n",
    "            img_path.append(path)\n",
    "        \n",
    "    return features, labels, img_path \n"
   ]
  },
  {
   "cell_type": "code",
   "execution_count": 9,
   "metadata": {},
   "outputs": [],
   "source": [
    "def negative_transformation(img):\n",
    "    \"\"\"\n",
    "    This function takes an image and returns a negative image\n",
    "\n",
    "    Parameters:\n",
    "    img: np.array\n",
    "        The image to be processed\n",
    "    \n",
    "    Returns:\n",
    "    negative_img: np.array\n",
    "        The negative image\n",
    "    \"\"\"\n",
    "    return 255-img\n",
    "\n",
    "def aug(path_to_dataset):\n",
    "    labels_folders = os.listdir(path_to_dataset)\n",
    "\n",
    "    for label in labels_folders:\n",
    "        path = os.path.join(path_to_dataset, label)\n",
    "        img_filenames = os.listdir(path)\n",
    "        for fn in img_filenames:\n",
    "            if fn.split('.')[-1] != 'jpg' or fn.split('.')[-1] != 'jpeg':\n",
    "                continue\n",
    "\n",
    "            path = os.path.join(path_to_dataset, label, fn)\n",
    "            img = cv2.imread(path)\n",
    "            neg_image = negative_transformation(img)\n",
    "            neg_image_path = path.split('.')[0]+'_neg.jpg'\n",
    "            cv2.imwrite(neg_image_path,neg_image)\n",
    "        "
   ]
  },
  {
   "cell_type": "code",
   "execution_count": 10,
   "metadata": {},
   "outputs": [],
   "source": [
    "def convert_to_jpg(path):\n",
    "    labels_folders = os.listdir(path)\n",
    "    for label in labels_folders:\n",
    "        print(label)\n",
    "        label_path = os.path.join(path, label)\n",
    "        if not os.path.isdir(label_path): \n",
    "            continue\n",
    "        for img in os.listdir(label_path):\n",
    "            img_path = os.path.join(label_path, img)\n",
    "            \n",
    "            if img.split('.')[-1].lower() == 'jpg':\n",
    "                continue  \n",
    "            \n",
    "            png_image = Image.open(img_path)\n",
    "            \n",
    "            if png_image.mode == 'RGBA':\n",
    "                white_bg = Image.new('RGB', png_image.size, (255, 255, 255))\n",
    "                white_bg.paste(png_image, (0, 0), png_image)\n",
    "                \n",
    "                jpg_path = os.path.join(label_path, img.split('.')[0] + '.jpg')\n",
    "                white_bg.save(jpg_path)\n",
    "            else:\n",
    "                jpg_path = os.path.join(label_path, img.split('.')[0] + '.jpg')\n",
    "                png_image = png_image.convert('RGB')\n",
    "                png_image.save(jpg_path)\n",
    "\n",
    "            os.remove(img_path)\n"
   ]
  },
  {
   "cell_type": "code",
   "execution_count": 11,
   "metadata": {},
   "outputs": [],
   "source": [
    "x_data_handwritten, y_data_handwritten ,img_paths1= load_dataset('handwritten')"
   ]
  },
  {
   "cell_type": "code",
   "execution_count": 12,
   "metadata": {},
   "outputs": [],
   "source": [
    "x_data_digital, y_data_digital ,img_paths2= load_dataset('digital')"
   ]
  },
  {
   "cell_type": "code",
   "execution_count": 13,
   "metadata": {},
   "outputs": [],
   "source": [
    "x_data_digital2, y_data_digital2 ,img_paths3= load_dataset('printed-digits-dataset')"
   ]
  },
  {
   "cell_type": "code",
   "execution_count": 15,
   "metadata": {},
   "outputs": [],
   "source": [
    "x_data_sudoku, y_data_sudoku ,img_paths4= load_dataset('sudoku_dataset')"
   ]
  },
  {
   "cell_type": "code",
   "execution_count": 16,
   "metadata": {},
   "outputs": [],
   "source": [
    "df_hand=pd.DataFrame(x_data_handwritten)\n",
    "df_hand['label']=y_data_handwritten\n",
    "df_hand['img_path']=img_paths1"
   ]
  },
  {
   "cell_type": "code",
   "execution_count": 17,
   "metadata": {},
   "outputs": [],
   "source": [
    "df_digital=pd.DataFrame(x_data_digital)\n",
    "df_digital['label']=y_data_digital\n",
    "df_digital['img_path']=img_paths2"
   ]
  },
  {
   "cell_type": "code",
   "execution_count": 18,
   "metadata": {},
   "outputs": [],
   "source": [
    "df_digital2=pd.DataFrame(x_data_digital2)\n",
    "df_digital2['label']=y_data_digital2\n",
    "df_digital2['img_path']=img_paths3"
   ]
  },
  {
   "cell_type": "code",
   "execution_count": 19,
   "metadata": {},
   "outputs": [],
   "source": [
    "df_so=pd.DataFrame(x_data_sudoku)\n",
    "df_so['label']=y_data_sudoku\n",
    "df_so['img_path']=img_paths4"
   ]
  },
  {
   "cell_type": "code",
   "execution_count": 20,
   "metadata": {},
   "outputs": [
    {
     "data": {
      "text/plain": [
       "label\n",
       "1    1201\n",
       "2    1201\n",
       "3    1201\n",
       "4    1201\n",
       "5    1201\n",
       "6    1201\n",
       "7    1201\n",
       "8    1201\n",
       "9    1201\n",
       "dtype: int64"
      ]
     },
     "execution_count": 20,
     "metadata": {},
     "output_type": "execute_result"
    }
   ],
   "source": [
    "df_hand.groupby('label').size()"
   ]
  },
  {
   "cell_type": "code",
   "execution_count": 21,
   "metadata": {},
   "outputs": [
    {
     "data": {
      "text/plain": [
       "label\n",
       "1    573\n",
       "2    573\n",
       "3    573\n",
       "4    573\n",
       "5    573\n",
       "6    573\n",
       "7    573\n",
       "8    573\n",
       "9    573\n",
       "dtype: int64"
      ]
     },
     "execution_count": 21,
     "metadata": {},
     "output_type": "execute_result"
    }
   ],
   "source": [
    "df_digital.groupby('label').size()"
   ]
  },
  {
   "cell_type": "code",
   "execution_count": 22,
   "metadata": {},
   "outputs": [
    {
     "data": {
      "text/plain": [
       "label\n",
       "1    742\n",
       "2    750\n",
       "3    605\n",
       "4    630\n",
       "5    592\n",
       "6    526\n",
       "7    688\n",
       "8    560\n",
       "9    565\n",
       "dtype: int64"
      ]
     },
     "execution_count": 22,
     "metadata": {},
     "output_type": "execute_result"
    }
   ],
   "source": [
    "df_digital2.groupby('label').size()"
   ]
  },
  {
   "cell_type": "code",
   "execution_count": 23,
   "metadata": {},
   "outputs": [
    {
     "data": {
      "text/plain": [
       "label\n",
       "1    451\n",
       "2    419\n",
       "3    443\n",
       "4    455\n",
       "5    464\n",
       "6    469\n",
       "7    465\n",
       "8    466\n",
       "9    429\n",
       "dtype: int64"
      ]
     },
     "execution_count": 23,
     "metadata": {},
     "output_type": "execute_result"
    }
   ],
   "source": [
    "df_so.groupby('label').size()"
   ]
  },
  {
   "cell_type": "code",
   "execution_count": 24,
   "metadata": {},
   "outputs": [
    {
     "data": {
      "text/plain": [
       "label\n",
       "1    1766\n",
       "2    1742\n",
       "3    1621\n",
       "4    1658\n",
       "5    1629\n",
       "6    1568\n",
       "7    1726\n",
       "8    1599\n",
       "9    1567\n",
       "dtype: int64"
      ]
     },
     "execution_count": 24,
     "metadata": {},
     "output_type": "execute_result"
    }
   ],
   "source": [
    "digital=pd.concat([df_digital,df_digital2,df_so])\n",
    "digital.groupby('label').size()"
   ]
  },
  {
   "cell_type": "code",
   "execution_count": 28,
   "metadata": {},
   "outputs": [
    {
     "data": {
      "text/plain": [
       "label\n",
       "1    1766\n",
       "2    1742\n",
       "3    1621\n",
       "4    1658\n",
       "5    1629\n",
       "6    1568\n",
       "7    1726\n",
       "8    1599\n",
       "9    1567\n",
       "dtype: int64"
      ]
     },
     "execution_count": 28,
     "metadata": {},
     "output_type": "execute_result"
    }
   ],
   "source": [
    "df_digital.groupby('label').size()"
   ]
  },
  {
   "cell_type": "code",
   "execution_count": 29,
   "metadata": {},
   "outputs": [],
   "source": [
    "df_hand.drop(columns=['img_path'],inplace=True)\n",
    "X_hand = df_hand.drop(columns=['label']) \n",
    "y_hand = df_hand['label']\n",
    "\n",
    "# First, split the data into 90% training/validation and 10% test\n",
    "# Then, split the 90% training/validation into 80% training and 15% validation\n",
    "\n",
    "X_train_val, X_test_hand, y_train_val, y_test_hand = train_test_split(X_hand, y_hand, test_size=0.05, random_state=42)\n",
    "X_train_hand, X_val_hand, y_train_hand, y_val_hand = train_test_split(X_train_val, y_train_val, test_size=0.1667, random_state=42)\n"
   ]
  },
  {
   "cell_type": "code",
   "execution_count": 30,
   "metadata": {},
   "outputs": [],
   "source": [
    "df_digital.drop(columns=['img_path'],inplace=True)\n",
    "X_digital = df_digital.drop(columns=['label']) \n",
    "y_digital = df_digital['label']\n",
    "\n",
    "# First, split the data into 90% training/validation and 10% test\n",
    "# Then, split the 90% training/validation into 80% training and 15% validation\n",
    "\n",
    "X_train_val, X_test_digital, y_train_val, y_test_digital = train_test_split(X_digital, y_digital, test_size=0.05, random_state=42)\n",
    "X_train_digital, X_val_digital, y_train_digital, y_val_digital = train_test_split(X_train_val, y_train_val, test_size=0.1667, random_state=42)\n"
   ]
  },
  {
   "cell_type": "code",
   "execution_count": 31,
   "metadata": {},
   "outputs": [],
   "source": [
    "X_train = pd.concat([X_train_hand, X_train_digital], ignore_index=True)\n",
    "y_train = pd.concat([y_train_hand, y_train_digital], ignore_index=True)"
   ]
  },
  {
   "cell_type": "code",
   "execution_count": 32,
   "metadata": {},
   "outputs": [],
   "source": [
    "x_cv = pd.concat([X_val_hand, X_val_digital], ignore_index=True)\n",
    "y_cv = pd.concat([y_val_hand, y_val_digital], ignore_index=True)"
   ]
  },
  {
   "cell_type": "code",
   "execution_count": 33,
   "metadata": {},
   "outputs": [],
   "source": [
    "x_test = pd.concat([X_test_hand, X_test_digital], ignore_index=True)\n",
    "y_test = pd.concat([y_test_hand, y_test_digital], ignore_index=True)"
   ]
  },
  {
   "cell_type": "code",
   "execution_count": 34,
   "metadata": {},
   "outputs": [
    {
     "data": {
      "text/html": [
       "<div>\n",
       "<style scoped>\n",
       "    .dataframe tbody tr th:only-of-type {\n",
       "        vertical-align: middle;\n",
       "    }\n",
       "\n",
       "    .dataframe tbody tr th {\n",
       "        vertical-align: top;\n",
       "    }\n",
       "\n",
       "    .dataframe thead th {\n",
       "        text-align: right;\n",
       "    }\n",
       "</style>\n",
       "<table border=\"1\" class=\"dataframe\">\n",
       "  <thead>\n",
       "    <tr style=\"text-align: right;\">\n",
       "      <th></th>\n",
       "      <th>0</th>\n",
       "      <th>1</th>\n",
       "      <th>2</th>\n",
       "      <th>3</th>\n",
       "      <th>4</th>\n",
       "      <th>5</th>\n",
       "      <th>6</th>\n",
       "      <th>7</th>\n",
       "      <th>8</th>\n",
       "      <th>9</th>\n",
       "      <th>...</th>\n",
       "      <th>1754</th>\n",
       "      <th>1755</th>\n",
       "      <th>1756</th>\n",
       "      <th>1757</th>\n",
       "      <th>1758</th>\n",
       "      <th>1759</th>\n",
       "      <th>1760</th>\n",
       "      <th>1761</th>\n",
       "      <th>1762</th>\n",
       "      <th>1763</th>\n",
       "    </tr>\n",
       "  </thead>\n",
       "  <tbody>\n",
       "    <tr>\n",
       "      <th>0</th>\n",
       "      <td>0.000000</td>\n",
       "      <td>0.000000</td>\n",
       "      <td>0.000000</td>\n",
       "      <td>0.000000</td>\n",
       "      <td>0.000000</td>\n",
       "      <td>0.000000</td>\n",
       "      <td>0.000000</td>\n",
       "      <td>0.000000</td>\n",
       "      <td>0.000000</td>\n",
       "      <td>0.000000</td>\n",
       "      <td>...</td>\n",
       "      <td>0.289801</td>\n",
       "      <td>0.075783</td>\n",
       "      <td>0.000000</td>\n",
       "      <td>0.166717</td>\n",
       "      <td>0.030005</td>\n",
       "      <td>0.289801</td>\n",
       "      <td>0.035834</td>\n",
       "      <td>0.057322</td>\n",
       "      <td>0.026176</td>\n",
       "      <td>0.040715</td>\n",
       "    </tr>\n",
       "    <tr>\n",
       "      <th>1</th>\n",
       "      <td>0.000000</td>\n",
       "      <td>0.000000</td>\n",
       "      <td>0.000000</td>\n",
       "      <td>0.000000</td>\n",
       "      <td>0.000000</td>\n",
       "      <td>0.000000</td>\n",
       "      <td>0.000000</td>\n",
       "      <td>0.000000</td>\n",
       "      <td>0.000000</td>\n",
       "      <td>0.000000</td>\n",
       "      <td>...</td>\n",
       "      <td>0.129441</td>\n",
       "      <td>0.248459</td>\n",
       "      <td>0.013911</td>\n",
       "      <td>0.000000</td>\n",
       "      <td>0.000000</td>\n",
       "      <td>0.022811</td>\n",
       "      <td>0.033601</td>\n",
       "      <td>0.072784</td>\n",
       "      <td>0.031865</td>\n",
       "      <td>0.177146</td>\n",
       "    </tr>\n",
       "    <tr>\n",
       "      <th>2</th>\n",
       "      <td>0.000000</td>\n",
       "      <td>0.000000</td>\n",
       "      <td>0.000000</td>\n",
       "      <td>0.000000</td>\n",
       "      <td>0.000000</td>\n",
       "      <td>0.000000</td>\n",
       "      <td>0.000000</td>\n",
       "      <td>0.000000</td>\n",
       "      <td>0.000000</td>\n",
       "      <td>0.000000</td>\n",
       "      <td>...</td>\n",
       "      <td>0.095943</td>\n",
       "      <td>0.000000</td>\n",
       "      <td>0.001696</td>\n",
       "      <td>0.005074</td>\n",
       "      <td>0.000000</td>\n",
       "      <td>0.020895</td>\n",
       "      <td>0.000000</td>\n",
       "      <td>0.000000</td>\n",
       "      <td>0.000000</td>\n",
       "      <td>0.000000</td>\n",
       "    </tr>\n",
       "    <tr>\n",
       "      <th>3</th>\n",
       "      <td>0.000000</td>\n",
       "      <td>0.000000</td>\n",
       "      <td>0.000000</td>\n",
       "      <td>0.000000</td>\n",
       "      <td>0.000000</td>\n",
       "      <td>0.000000</td>\n",
       "      <td>0.000000</td>\n",
       "      <td>0.000000</td>\n",
       "      <td>0.000000</td>\n",
       "      <td>0.000000</td>\n",
       "      <td>...</td>\n",
       "      <td>0.000000</td>\n",
       "      <td>0.000000</td>\n",
       "      <td>0.000000</td>\n",
       "      <td>0.000000</td>\n",
       "      <td>0.000000</td>\n",
       "      <td>0.000000</td>\n",
       "      <td>0.000000</td>\n",
       "      <td>0.000000</td>\n",
       "      <td>0.000000</td>\n",
       "      <td>0.000000</td>\n",
       "    </tr>\n",
       "    <tr>\n",
       "      <th>4</th>\n",
       "      <td>0.000000</td>\n",
       "      <td>0.000000</td>\n",
       "      <td>0.000000</td>\n",
       "      <td>0.000000</td>\n",
       "      <td>0.000000</td>\n",
       "      <td>0.000000</td>\n",
       "      <td>0.000000</td>\n",
       "      <td>0.000000</td>\n",
       "      <td>0.000000</td>\n",
       "      <td>0.000000</td>\n",
       "      <td>...</td>\n",
       "      <td>0.187030</td>\n",
       "      <td>0.009437</td>\n",
       "      <td>0.003658</td>\n",
       "      <td>0.013192</td>\n",
       "      <td>0.034472</td>\n",
       "      <td>0.083031</td>\n",
       "      <td>0.001586</td>\n",
       "      <td>0.000000</td>\n",
       "      <td>0.010443</td>\n",
       "      <td>0.004343</td>\n",
       "    </tr>\n",
       "    <tr>\n",
       "      <th>...</th>\n",
       "      <td>...</td>\n",
       "      <td>...</td>\n",
       "      <td>...</td>\n",
       "      <td>...</td>\n",
       "      <td>...</td>\n",
       "      <td>...</td>\n",
       "      <td>...</td>\n",
       "      <td>...</td>\n",
       "      <td>...</td>\n",
       "      <td>...</td>\n",
       "      <td>...</td>\n",
       "      <td>...</td>\n",
       "      <td>...</td>\n",
       "      <td>...</td>\n",
       "      <td>...</td>\n",
       "      <td>...</td>\n",
       "      <td>...</td>\n",
       "      <td>...</td>\n",
       "      <td>...</td>\n",
       "      <td>...</td>\n",
       "      <td>...</td>\n",
       "    </tr>\n",
       "    <tr>\n",
       "      <th>20327</th>\n",
       "      <td>0.000000</td>\n",
       "      <td>0.000000</td>\n",
       "      <td>0.000000</td>\n",
       "      <td>0.000000</td>\n",
       "      <td>0.000000</td>\n",
       "      <td>0.000000</td>\n",
       "      <td>0.000000</td>\n",
       "      <td>0.000000</td>\n",
       "      <td>0.000000</td>\n",
       "      <td>0.000000</td>\n",
       "      <td>...</td>\n",
       "      <td>0.257484</td>\n",
       "      <td>0.054814</td>\n",
       "      <td>0.021716</td>\n",
       "      <td>0.064983</td>\n",
       "      <td>0.000000</td>\n",
       "      <td>0.109629</td>\n",
       "      <td>0.000000</td>\n",
       "      <td>0.000000</td>\n",
       "      <td>0.000000</td>\n",
       "      <td>0.054814</td>\n",
       "    </tr>\n",
       "    <tr>\n",
       "      <th>20328</th>\n",
       "      <td>0.020984</td>\n",
       "      <td>0.008239</td>\n",
       "      <td>0.025692</td>\n",
       "      <td>0.016286</td>\n",
       "      <td>0.056809</td>\n",
       "      <td>0.030738</td>\n",
       "      <td>0.037135</td>\n",
       "      <td>0.016790</td>\n",
       "      <td>0.036689</td>\n",
       "      <td>0.115768</td>\n",
       "      <td>...</td>\n",
       "      <td>0.000209</td>\n",
       "      <td>0.014726</td>\n",
       "      <td>0.153808</td>\n",
       "      <td>0.350676</td>\n",
       "      <td>0.102845</td>\n",
       "      <td>0.022379</td>\n",
       "      <td>0.012383</td>\n",
       "      <td>0.000000</td>\n",
       "      <td>0.000000</td>\n",
       "      <td>0.009388</td>\n",
       "    </tr>\n",
       "    <tr>\n",
       "      <th>20329</th>\n",
       "      <td>0.012588</td>\n",
       "      <td>0.105946</td>\n",
       "      <td>0.058844</td>\n",
       "      <td>0.010146</td>\n",
       "      <td>0.012327</td>\n",
       "      <td>0.002732</td>\n",
       "      <td>0.009363</td>\n",
       "      <td>0.010538</td>\n",
       "      <td>0.007592</td>\n",
       "      <td>0.239322</td>\n",
       "      <td>...</td>\n",
       "      <td>0.002486</td>\n",
       "      <td>0.007316</td>\n",
       "      <td>0.271282</td>\n",
       "      <td>0.356753</td>\n",
       "      <td>0.163798</td>\n",
       "      <td>0.014353</td>\n",
       "      <td>0.001820</td>\n",
       "      <td>0.000890</td>\n",
       "      <td>0.000090</td>\n",
       "      <td>0.002771</td>\n",
       "    </tr>\n",
       "    <tr>\n",
       "      <th>20330</th>\n",
       "      <td>0.053611</td>\n",
       "      <td>0.192529</td>\n",
       "      <td>0.196544</td>\n",
       "      <td>0.037601</td>\n",
       "      <td>0.311895</td>\n",
       "      <td>0.013061</td>\n",
       "      <td>0.010073</td>\n",
       "      <td>0.106359</td>\n",
       "      <td>0.057066</td>\n",
       "      <td>0.045904</td>\n",
       "      <td>...</td>\n",
       "      <td>0.027929</td>\n",
       "      <td>0.149280</td>\n",
       "      <td>0.289130</td>\n",
       "      <td>0.174884</td>\n",
       "      <td>0.137889</td>\n",
       "      <td>0.289130</td>\n",
       "      <td>0.064262</td>\n",
       "      <td>0.199904</td>\n",
       "      <td>0.063895</td>\n",
       "      <td>0.118384</td>\n",
       "    </tr>\n",
       "    <tr>\n",
       "      <th>20331</th>\n",
       "      <td>0.024070</td>\n",
       "      <td>0.038670</td>\n",
       "      <td>0.068922</td>\n",
       "      <td>0.004226</td>\n",
       "      <td>0.007562</td>\n",
       "      <td>0.005555</td>\n",
       "      <td>0.010151</td>\n",
       "      <td>0.001718</td>\n",
       "      <td>0.006184</td>\n",
       "      <td>0.043566</td>\n",
       "      <td>...</td>\n",
       "      <td>0.002881</td>\n",
       "      <td>0.010108</td>\n",
       "      <td>0.171469</td>\n",
       "      <td>0.380403</td>\n",
       "      <td>0.036344</td>\n",
       "      <td>0.012298</td>\n",
       "      <td>0.000000</td>\n",
       "      <td>0.000000</td>\n",
       "      <td>0.000000</td>\n",
       "      <td>0.006855</td>\n",
       "    </tr>\n",
       "  </tbody>\n",
       "</table>\n",
       "<p>20332 rows × 1764 columns</p>\n",
       "</div>"
      ],
      "text/plain": [
       "              0         1         2         3         4         5         6  \\\n",
       "0      0.000000  0.000000  0.000000  0.000000  0.000000  0.000000  0.000000   \n",
       "1      0.000000  0.000000  0.000000  0.000000  0.000000  0.000000  0.000000   \n",
       "2      0.000000  0.000000  0.000000  0.000000  0.000000  0.000000  0.000000   \n",
       "3      0.000000  0.000000  0.000000  0.000000  0.000000  0.000000  0.000000   \n",
       "4      0.000000  0.000000  0.000000  0.000000  0.000000  0.000000  0.000000   \n",
       "...         ...       ...       ...       ...       ...       ...       ...   \n",
       "20327  0.000000  0.000000  0.000000  0.000000  0.000000  0.000000  0.000000   \n",
       "20328  0.020984  0.008239  0.025692  0.016286  0.056809  0.030738  0.037135   \n",
       "20329  0.012588  0.105946  0.058844  0.010146  0.012327  0.002732  0.009363   \n",
       "20330  0.053611  0.192529  0.196544  0.037601  0.311895  0.013061  0.010073   \n",
       "20331  0.024070  0.038670  0.068922  0.004226  0.007562  0.005555  0.010151   \n",
       "\n",
       "              7         8         9  ...      1754      1755      1756  \\\n",
       "0      0.000000  0.000000  0.000000  ...  0.289801  0.075783  0.000000   \n",
       "1      0.000000  0.000000  0.000000  ...  0.129441  0.248459  0.013911   \n",
       "2      0.000000  0.000000  0.000000  ...  0.095943  0.000000  0.001696   \n",
       "3      0.000000  0.000000  0.000000  ...  0.000000  0.000000  0.000000   \n",
       "4      0.000000  0.000000  0.000000  ...  0.187030  0.009437  0.003658   \n",
       "...         ...       ...       ...  ...       ...       ...       ...   \n",
       "20327  0.000000  0.000000  0.000000  ...  0.257484  0.054814  0.021716   \n",
       "20328  0.016790  0.036689  0.115768  ...  0.000209  0.014726  0.153808   \n",
       "20329  0.010538  0.007592  0.239322  ...  0.002486  0.007316  0.271282   \n",
       "20330  0.106359  0.057066  0.045904  ...  0.027929  0.149280  0.289130   \n",
       "20331  0.001718  0.006184  0.043566  ...  0.002881  0.010108  0.171469   \n",
       "\n",
       "           1757      1758      1759      1760      1761      1762      1763  \n",
       "0      0.166717  0.030005  0.289801  0.035834  0.057322  0.026176  0.040715  \n",
       "1      0.000000  0.000000  0.022811  0.033601  0.072784  0.031865  0.177146  \n",
       "2      0.005074  0.000000  0.020895  0.000000  0.000000  0.000000  0.000000  \n",
       "3      0.000000  0.000000  0.000000  0.000000  0.000000  0.000000  0.000000  \n",
       "4      0.013192  0.034472  0.083031  0.001586  0.000000  0.010443  0.004343  \n",
       "...         ...       ...       ...       ...       ...       ...       ...  \n",
       "20327  0.064983  0.000000  0.109629  0.000000  0.000000  0.000000  0.054814  \n",
       "20328  0.350676  0.102845  0.022379  0.012383  0.000000  0.000000  0.009388  \n",
       "20329  0.356753  0.163798  0.014353  0.001820  0.000890  0.000090  0.002771  \n",
       "20330  0.174884  0.137889  0.289130  0.064262  0.199904  0.063895  0.118384  \n",
       "20331  0.380403  0.036344  0.012298  0.000000  0.000000  0.000000  0.006855  \n",
       "\n",
       "[20332 rows x 1764 columns]"
      ]
     },
     "execution_count": 34,
     "metadata": {},
     "output_type": "execute_result"
    }
   ],
   "source": [
    "X_train"
   ]
  },
  {
   "cell_type": "code",
   "execution_count": 35,
   "metadata": {},
   "outputs": [
    {
     "data": {
      "text/plain": [
       "label\n",
       "1    2332\n",
       "2    2321\n",
       "3    2266\n",
       "4    2277\n",
       "5    2249\n",
       "6    2165\n",
       "7    2357\n",
       "8    2172\n",
       "9    2193\n",
       "Name: count, dtype: int64"
      ]
     },
     "execution_count": 35,
     "metadata": {},
     "output_type": "execute_result"
    }
   ],
   "source": [
    "y_train.value_counts().sort_index()"
   ]
  },
  {
   "cell_type": "code",
   "execution_count": 36,
   "metadata": {},
   "outputs": [],
   "source": [
    "\n",
    "X_train, y_train = shuffle(X_train, y_train, random_state=42)\n",
    "x_cv, y_cv = shuffle(x_cv, y_cv, random_state=42)\n",
    "x_test, y_test = shuffle(x_test, y_test, random_state=42)\n"
   ]
  },
  {
   "cell_type": "code",
   "execution_count": 37,
   "metadata": {},
   "outputs": [
    {
     "name": "stdout",
     "output_type": "stream",
     "text": [
      "Best Parameters: {'n_neighbors': 5}\n",
      "Accuracy: 0.94\n"
     ]
    }
   ],
   "source": [
    "param_grid = {'n_neighbors': [5,7,8]}\n",
    "\n",
    "knn = KNeighborsClassifier()\n",
    "\n",
    "grid_search = GridSearchCV(estimator=knn, param_grid=param_grid, cv=5, scoring='accuracy')\n",
    "\n",
    "grid_search.fit(X_train, y_train)\n",
    "\n",
    "best_params = grid_search.best_params_\n",
    "best_knn = grid_search.best_estimator_\n",
    "\n",
    "y_pred = best_knn.predict(x_cv)\n",
    "\n",
    "accuracy = accuracy_score(y_cv, y_pred)\n",
    "print(f\"Best Parameters: {best_params}\")\n",
    "print(f\"Accuracy: {accuracy:.2f}\")\n"
   ]
  },
  {
   "cell_type": "code",
   "execution_count": 38,
   "metadata": {},
   "outputs": [],
   "source": [
    "predictions = best_knn.predict(x_test)\n",
    "accuracy = accuracy_score(y_test, predictions)"
   ]
  },
  {
   "cell_type": "code",
   "execution_count": 39,
   "metadata": {},
   "outputs": [
    {
     "data": {
      "text/plain": [
       "0.9330739299610895"
      ]
     },
     "execution_count": 39,
     "metadata": {},
     "output_type": "execute_result"
    }
   ],
   "source": [
    "accuracy"
   ]
  },
  {
   "cell_type": "code",
   "execution_count": null,
   "metadata": {},
   "outputs": [],
   "source": [
    "from sklearn.tree import DecisionTreeClassifier\n",
    "from sklearn.model_selection import GridSearchCV\n",
    "from sklearn.metrics import accuracy_score\n",
    "\n",
    "param_grid = {\n",
    "    'criterion': ['gini', 'entropy'],  # Splitting criteria\n",
    "    'max_depth': [3, 5, 10, None],     # Tree depth\n",
    "}\n",
    "\n",
    "decision_tree = DecisionTreeClassifier(random_state=42)\n",
    "\n",
    "grid_search = GridSearchCV(estimator=decision_tree, param_grid=param_grid, cv=5, scoring='accuracy')\n",
    "\n",
    "grid_search.fit(X_train, y_train)\n",
    "\n",
    "best_params = grid_search.best_params_\n",
    "best_tree = grid_search.best_estimator_\n",
    "\n",
    "y_pred = best_tree.predict(x_cv)\n",
    "\n",
    "accuracy = accuracy_score(y_cv, y_pred)\n",
    "print(f\"Best Parameters: {best_params}\")\n",
    "print(f\"Accuracy: {accuracy:.2f}\")\n"
   ]
  },
  {
   "cell_type": "code",
   "execution_count": null,
   "metadata": {},
   "outputs": [],
   "source": [
    "predictions = best_tree.predict(x_test)\n",
    "accuracy = accuracy_score(y_test, predictions)\n",
    "accuracy"
   ]
  },
  {
   "cell_type": "code",
   "execution_count": 142,
   "metadata": {},
   "outputs": [],
   "source": [
    "import pickle\n",
    "\n",
    "with open('knn_model5.pkl', 'wb') as file:\n",
    "    pickle.dump(best_knn, file)"
   ]
  },
  {
   "cell_type": "code",
   "execution_count": null,
   "metadata": {},
   "outputs": [],
   "source": [
    "param_grid = {\n",
    "    'n_estimators': [50, 100, 200],     \n",
    "    'max_depth': [3, 5, 10],       \n",
    "    'learning_rate': [0.01, 0.1, 0.2],  \n",
    "}\n",
    "\n",
    "xgb_model = XGBClassifier(use_label_encoder=False, eval_metric='logloss', random_state=42)\n",
    "\n",
    "grid_search = GridSearchCV(estimator=xgb_model, param_grid=param_grid, cv=5, scoring='accuracy')\n",
    "\n",
    "grid_search.fit(X_train, y_train)\n",
    "\n",
    "best_params = grid_search.best_params_\n",
    "best_xgb = grid_search.best_estimator_\n",
    "\n",
    "y_pred = best_xgb.predict(x_cv)\n",
    "\n",
    "accuracy = accuracy_score(y_cv, y_pred)\n",
    "print(f\"Best Parameters: {best_params}\")\n",
    "print(f\"Accuracy: {accuracy:.2f}\")\n"
   ]
  },
  {
   "cell_type": "code",
   "execution_count": null,
   "metadata": {},
   "outputs": [],
   "source": [
    "predictions = best_xgb.predict(x_test)\n",
    "accuracy = accuracy_score(y_test, predictions)\n",
    "accuracy"
   ]
  }
 ],
 "metadata": {
  "kernelspec": {
   "display_name": "base",
   "language": "python",
   "name": "python3"
  },
  "language_info": {
   "codemirror_mode": {
    "name": "ipython",
    "version": 3
   },
   "file_extension": ".py",
   "mimetype": "text/x-python",
   "name": "python",
   "nbconvert_exporter": "python",
   "pygments_lexer": "ipython3",
   "version": "3.11.9"
  }
 },
 "nbformat": 4,
 "nbformat_minor": 2
}
