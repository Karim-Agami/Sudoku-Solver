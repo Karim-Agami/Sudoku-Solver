{
 "cells": [
  {
   "cell_type": "markdown",
   "metadata": {},
   "source": [
    "### Model Comparison: Custom Model vs. Pre-trained Model on Real Images\n",
    "\n",
    "This notebook compares the performance of our custom model against a pre-trained model using real-world image data.\n",
    "\n",
    "#### Results:\n",
    "- **Our Model Accuracy:** 80%  \n",
    "- **Pre-trained Model Accuracy:** 87%"
   ]
  },
  {
   "cell_type": "code",
   "execution_count": 2,
   "metadata": {
    "_cell_guid": "b1076dfc-b9ad-4769-8c92-a6c4dae69d19",
    "_uuid": "8f2839f25d086af736a60e9eeb907d3b93b6e0e5",
    "execution": {
     "iopub.execute_input": "2024-12-23T11:57:47.195598Z",
     "iopub.status.busy": "2024-12-23T11:57:47.195275Z",
     "iopub.status.idle": "2024-12-23T11:57:47.200672Z",
     "shell.execute_reply": "2024-12-23T11:57:47.199730Z",
     "shell.execute_reply.started": "2024-12-23T11:57:47.195573Z"
    },
    "trusted": true
   },
   "outputs": [],
   "source": [
    "import numpy as np\n",
    "import matplotlib.pyplot as plt\n",
    "import cv2\n",
    "import os\n",
    "from skimage import io\n",
    "import pandas as pd\n",
    "from sklearn.utils import shuffle\n",
    "import pickle\n",
    "\n",
    "#models\n",
    "from sklearn.neighbors import KNeighborsClassifier\n",
    "from sklearn import svm\n",
    "from sklearn.ensemble import RandomForestClassifier\n",
    "from sklearn.tree import DecisionTreeClassifier\n",
    "from xgboost import XGBClassifier\n",
    "#pca\n",
    "from sklearn.decomposition import PCA\n",
    "\n",
    "#preprocessing\n",
    "from sklearn.model_selection import train_test_split\n",
    "from sklearn.model_selection import GridSearchCV\n",
    "from sklearn.metrics import accuracy_score\n",
    "from sklearn.metrics import f1_score\n",
    "from sklearn.preprocessing import StandardScaler\n",
    "from sklearn.decomposition import PCA\n",
    "# from transformers import TrOCRProcessor, VisionEncoderDecoderModel\n",
    "# from PIL import Image\n",
    "# import torch"
   ]
  },
  {
   "cell_type": "code",
   "execution_count": 1,
   "metadata": {
    "execution": {
     "iopub.execute_input": "2024-12-23T11:57:50.239558Z",
     "iopub.status.busy": "2024-12-23T11:57:50.239179Z",
     "iopub.status.idle": "2024-12-23T11:57:50.243148Z",
     "shell.execute_reply": "2024-12-23T11:57:50.242165Z",
     "shell.execute_reply.started": "2024-12-23T11:57:50.239531Z"
    },
    "trusted": true
   },
   "outputs": [],
   "source": [
    "IMG_SIZE=32"
   ]
  },
  {
   "cell_type": "code",
   "execution_count": 30,
   "metadata": {
    "execution": {
     "iopub.execute_input": "2024-12-23T11:17:48.692326Z",
     "iopub.status.busy": "2024-12-23T11:17:48.691998Z",
     "iopub.status.idle": "2024-12-23T11:17:48.883409Z",
     "shell.execute_reply": "2024-12-23T11:17:48.882692Z",
     "shell.execute_reply.started": "2024-12-23T11:17:48.692303Z"
    },
    "trusted": true
   },
   "outputs": [],
   "source": [
    "with open('knn_hog.pkl', 'rb') as f:\n",
    "    my_model=pickle.load(f)"
   ]
  },
  {
   "cell_type": "code",
   "execution_count": 6,
   "metadata": {
    "execution": {
     "iopub.execute_input": "2024-12-23T12:03:44.564656Z",
     "iopub.status.busy": "2024-12-23T12:03:44.564344Z",
     "iopub.status.idle": "2024-12-23T12:03:44.569393Z",
     "shell.execute_reply": "2024-12-23T12:03:44.568595Z",
     "shell.execute_reply.started": "2024-12-23T12:03:44.564633Z"
    },
    "trusted": true
   },
   "outputs": [],
   "source": [
    "\n",
    "def predict_number_from_pretrained(image):\n",
    "    # Open the image\n",
    "    ##gray to rgb\n",
    "    image = cv2.cvtColor(image, cv2.COLOR_GRAY2RGB)\n",
    "    image = Image.fromarray(image)\n",
    "    \n",
    "    processor = TrOCRProcessor.from_pretrained(\"microsoft/trocr-large-printed\")\n",
    "    pretrained_model = VisionEncoderDecoderModel.from_pretrained(\"microsoft/trocr-large-printed\")\n",
    "    device = torch.device(\"cuda\" if torch.cuda.is_available() else \"cpu\")\n",
    "    pixel_values = processor(image, return_tensors=\"pt\").pixel_values\n",
    "\n",
    "    # Ensure input is on the same device as the model\n",
    "    pixel_values = pixel_values.to(device)\n",
    "    pretrained_model.to(device)\n",
    "\n",
    "    # Generate predictions\n",
    "    generated_ids = pretrained_model.generate(pixel_values)\n",
    "    predicted_text = processor.batch_decode(generated_ids, skip_special_tokens=True)[0]\n",
    "\n",
    "    return predicted_text"
   ]
  },
  {
   "cell_type": "code",
   "execution_count": 32,
   "metadata": {
    "execution": {
     "iopub.execute_input": "2024-12-23T12:00:18.683022Z",
     "iopub.status.busy": "2024-12-23T12:00:18.682709Z",
     "iopub.status.idle": "2024-12-23T12:00:18.688202Z",
     "shell.execute_reply": "2024-12-23T12:00:18.687382Z",
     "shell.execute_reply.started": "2024-12-23T12:00:18.682995Z"
    },
    "trusted": true
   },
   "outputs": [],
   "source": [
    "def extract_hog_features(img):\n",
    "    \"\"\"\n",
    "    Extracts Histogram of Oriented Gradients (HOG) features from an image.\n",
    "\n",
    "    Parameters:\n",
    "    img (numpy.ndarray): A numpy array of shape (H, W) representing the input image.\n",
    "\n",
    "    Returns:\n",
    "    numpy.ndarray: A numpy array of shape (N,) containing the HOG features.\n",
    "    \"\"\"\n",
    "    img = cv2.resize(img, (IMG_SIZE, IMG_SIZE))\n",
    "    win_size = (IMG_SIZE, IMG_SIZE)\n",
    "    cell_size = (4, 4)\n",
    "    block_size_in_cells = (2, 2)\n",
    "    \n",
    "    block_size = (block_size_in_cells[1] * cell_size[1], block_size_in_cells[0] * cell_size[0])\n",
    "    block_stride = (cell_size[1], cell_size[0])\n",
    "    nbins = 9 \n",
    "    hog = cv2.HOGDescriptor(win_size, block_size, block_stride, cell_size, nbins)\n",
    "    h = hog.compute(img)\n",
    "    h = h.flatten()\n",
    "    return h.flatten()\n",
    "\n",
    "\n",
    "def predict_my_model(img,my_model):\n",
    "    features=extract_hog_features(img).reshape((1,-1))\n",
    "    return my_model.predict(features)\n"
   ]
  },
  {
   "cell_type": "code",
   "execution_count": 14,
   "metadata": {
    "execution": {
     "iopub.execute_input": "2024-12-23T12:00:19.594071Z",
     "iopub.status.busy": "2024-12-23T12:00:19.593775Z",
     "iopub.status.idle": "2024-12-23T12:00:19.599543Z",
     "shell.execute_reply": "2024-12-23T12:00:19.598686Z",
     "shell.execute_reply.started": "2024-12-23T12:00:19.594049Z"
    },
    "trusted": true
   },
   "outputs": [],
   "source": [
    "def getacc(path_to_dataset, my_model, device, processor, pretrained_model, pretrained=False):\n",
    "    labels_folders = os.listdir(path_to_dataset)\n",
    "    total_counter = 0\n",
    "    correct_counter = 0\n",
    "    \n",
    "    for label in labels_folders:\n",
    "        label_path = os.path.join(path_to_dataset, label)\n",
    "        img_filenames = os.listdir(label_path)\n",
    "        for fn in img_filenames:\n",
    "            total_counter += 1\n",
    "            img_path = os.path.join(label_path, fn)\n",
    "            img_gray = cv2.imread(img_path, cv2.IMREAD_GRAYSCALE)\n",
    "            img_gray = cv2.resize(img_gray, (32, 32))\n",
    "            \n",
    "            if pretrained:\n",
    "                result = predict_number_from_pretrained(img_gray)\n",
    "            else:\n",
    "                result = predict_my_model(img_gray, my_model)\n",
    "            \n",
    "            # Check if result is not an alphabet\n",
    "            if not str(result).isalpha():\n",
    "                # Assuming labels are numeric, cast label to an integer\n",
    "                if int(result) == int(label):\n",
    "                    correct_counter += 1\n",
    "    \n",
    "    return correct_counter / total_counter if total_counter > 0 else 0\n"
   ]
  },
  {
   "cell_type": "code",
   "execution_count": 9,
   "metadata": {
    "execution": {
     "iopub.execute_input": "2024-12-23T11:59:20.633497Z",
     "iopub.status.busy": "2024-12-23T11:59:20.633153Z",
     "iopub.status.idle": "2024-12-23T11:59:20.637186Z",
     "shell.execute_reply": "2024-12-23T11:59:20.636361Z",
     "shell.execute_reply.started": "2024-12-23T11:59:20.633472Z"
    },
    "trusted": true
   },
   "outputs": [],
   "source": [
    "import warnings\n",
    "from sklearn.exceptions import DataConversionWarning\n",
    "\n",
    "# Suppress specific sklearn warnings\n",
    "warnings.filterwarnings(action='ignore', category=DataConversionWarning)"
   ]
  },
  {
   "cell_type": "code",
   "execution_count": null,
   "metadata": {
    "execution": {
     "iopub.execute_input": "2024-12-23T12:03:50.983441Z",
     "iopub.status.busy": "2024-12-23T12:03:50.983114Z"
    },
    "trusted": true
   },
   "outputs": [],
   "source": [
    "device=None\n",
    "processor=None\n",
    "pretrained_model=None\n",
    "print(my_model)\n",
    "print(getacc('test', my_model, device, processor, pretrained_model, pretrained=False))\n",
    "# print(getacc('/kaggle/input/test-acc-dataset/test_data', my_model, device, processor, pretrained_model, pretrained=True))"
   ]
  }
 ],
 "metadata": {
  "kaggle": {
   "accelerator": "gpu",
   "dataSources": [
    {
     "datasetId": 6359652,
     "sourceId": 10277791,
     "sourceType": "datasetVersion"
    },
    {
     "isSourceIdPinned": true,
     "modelId": 199339,
     "modelInstanceId": 177041,
     "sourceId": 207672,
     "sourceType": "modelInstanceVersion"
    }
   ],
   "dockerImageVersionId": 30823,
   "isGpuEnabled": true,
   "isInternetEnabled": true,
   "language": "python",
   "sourceType": "notebook"
  },
  "kernelspec": {
   "display_name": "base",
   "language": "python",
   "name": "python3"
  },
  "language_info": {
   "codemirror_mode": {
    "name": "ipython",
    "version": 3
   },
   "file_extension": ".py",
   "mimetype": "text/x-python",
   "name": "python",
   "nbconvert_exporter": "python",
   "pygments_lexer": "ipython3",
   "version": "3.11.9"
  }
 },
 "nbformat": 4,
 "nbformat_minor": 4
}
